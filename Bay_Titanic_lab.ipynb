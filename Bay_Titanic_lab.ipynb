{
  "cells": [
    {
      "cell_type": "code",
      "execution_count": null,
      "metadata": {
        "colab": {
          "base_uri": "https://localhost:8080/",
          "height": 276
        },
        "id": "Jw4SNVI-ZFJK",
        "outputId": "860d2fbb-3ca9-4595-d9e4-d45eeb129bea"
      },
      "outputs": [],
      "source": [
        "import pandas as pd\n",
        "df = pd.read_csv('Titanic-Dataset.csv')\n",
        "df.head()"
      ]
    },
    {
      "cell_type": "code",
      "execution_count": null,
      "metadata": {
        "colab": {
          "base_uri": "https://localhost:8080/",
          "height": 206
        },
        "id": "UW2FBgfudVHJ",
        "outputId": "41e75533-fb94-415b-a808-2d6262edf644"
      },
      "outputs": [],
      "source": [
        "df.drop(['PassengerId', 'Name', 'SibSp', 'Parch', 'Embarked', 'Ticket', 'Cabin'], axis='columns', inplace= True)\n",
        "df.head()"
      ]
    },
    {
      "cell_type": "code",
      "execution_count": null,
      "metadata": {
        "id": "Ai9Br5WTe0So"
      },
      "outputs": [],
      "source": [
        "target = df.Survived\n",
        "input = df.drop('Survived', axis='columns')"
      ]
    },
    {
      "cell_type": "code",
      "execution_count": null,
      "metadata": {
        "colab": {
          "base_uri": "https://localhost:8080/",
          "height": 143
        },
        "id": "EXd38aa_fIsA",
        "outputId": "a81ac17b-26a6-492b-b710-d34c22c31069"
      },
      "outputs": [],
      "source": [
        "dummise= pd.get_dummies(input.Sex, dtype=int)\n",
        "dummise.head(3)"
      ]
    },
    {
      "cell_type": "code",
      "execution_count": null,
      "metadata": {
        "colab": {
          "base_uri": "https://localhost:8080/",
          "height": 143
        },
        "id": "HU8U2OcThhZM",
        "outputId": "349a2760-0dd7-42d9-9457-e064306b43a5"
      },
      "outputs": [],
      "source": [
        "input = pd.concat([input, dummise], axis= 'columns')\n",
        "input.head(3)"
      ]
    },
    {
      "cell_type": "code",
      "execution_count": null,
      "metadata": {
        "colab": {
          "base_uri": "https://localhost:8080/",
          "height": 143
        },
        "id": "Xojvsg6mh5vj",
        "outputId": "bd0f74af-7041-4cb0-df13-c445e3ee07f8"
      },
      "outputs": [],
      "source": [
        "input.drop('Sex', axis='columns', inplace= True)\n",
        "input.head(3)"
      ]
    },
    {
      "cell_type": "code",
      "execution_count": null,
      "metadata": {
        "colab": {
          "base_uri": "https://localhost:8080/"
        },
        "id": "8xqcO2QMixO8",
        "outputId": "b485e397-d331-4666-cd37-7fcbaa8e0241"
      },
      "outputs": [],
      "source": [
        "input.columns[input.isna().any()]"
      ]
    },
    {
      "cell_type": "code",
      "execution_count": null,
      "metadata": {
        "colab": {
          "base_uri": "https://localhost:8080/",
          "height": 398
        },
        "id": "UTSRr-AOjAbp",
        "outputId": "29990215-d95b-478a-bcef-08b207fe5479"
      },
      "outputs": [],
      "source": [
        "input.Age[:10]"
      ]
    },
    {
      "cell_type": "code",
      "execution_count": null,
      "metadata": {
        "colab": {
          "base_uri": "https://localhost:8080/",
          "height": 363
        },
        "id": "SdxX4RsdjLLk",
        "outputId": "135c433b-f5f3-43ea-fb54-e5bee47ccc4f"
      },
      "outputs": [],
      "source": [
        "input.Age= input.Age.fillna(input.Age.mean())\n",
        "input.head(10)"
      ]
    },
    {
      "cell_type": "code",
      "execution_count": null,
      "metadata": {
        "id": "qMtg0n4HjxJC"
      },
      "outputs": [],
      "source": [
        "from sklearn.model_selection import train_test_split\n",
        "X_train, X_test, y_train, y_test = train_test_split(input, target, test_size=0.2)"
      ]
    },
    {
      "cell_type": "code",
      "execution_count": null,
      "metadata": {
        "colab": {
          "base_uri": "https://localhost:8080/"
        },
        "id": "Er-hsqcakJFE",
        "outputId": "e6ced34d-6503-4f64-d825-8ff6e90eb9da"
      },
      "outputs": [],
      "source": [
        "len(X_train)"
      ]
    },
    {
      "cell_type": "code",
      "execution_count": null,
      "metadata": {
        "colab": {
          "base_uri": "https://localhost:8080/"
        },
        "id": "x6BilKyKkMqx",
        "outputId": "84d5b9de-921f-4d51-dba8-1571fd6747cd"
      },
      "outputs": [],
      "source": [
        "len(X_test)"
      ]
    },
    {
      "cell_type": "code",
      "execution_count": null,
      "metadata": {
        "colab": {
          "base_uri": "https://localhost:8080/"
        },
        "id": "bANnTc6gkP7k",
        "outputId": "10dace03-7a37-43fe-f28e-f14c11a5bcc4"
      },
      "outputs": [],
      "source": [
        "len(input)"
      ]
    },
    {
      "cell_type": "code",
      "execution_count": null,
      "metadata": {
        "colab": {
          "base_uri": "https://localhost:8080/",
          "height": 206
        },
        "id": "2HuEcCfwkW3V",
        "outputId": "7ee8e790-90ba-403e-82d0-64f896afcd52"
      },
      "outputs": [],
      "source": [
        "X_train.head()"
      ]
    },
    {
      "cell_type": "code",
      "execution_count": null,
      "metadata": {
        "colab": {
          "base_uri": "https://localhost:8080/",
          "height": 241
        },
        "id": "inKpsrRnlbZm",
        "outputId": "bb2d85de-7ea0-4a08-a493-266824dd723f"
      },
      "outputs": [],
      "source": [
        "y_train.head()"
      ]
    },
    {
      "cell_type": "code",
      "execution_count": null,
      "metadata": {
        "id": "fmaiQDCdkhIG"
      },
      "outputs": [],
      "source": [
        "from sklearn.naive_bayes import GaussianNB\n",
        "model = GaussianNB()"
      ]
    },
    {
      "cell_type": "code",
      "execution_count": null,
      "metadata": {
        "colab": {
          "base_uri": "https://localhost:8080/",
          "height": 80
        },
        "id": "kN5XetxVk0G7",
        "outputId": "22067034-641d-4606-ab6e-bdbbeeea6cbe"
      },
      "outputs": [],
      "source": [
        "model.fit(X_train, y_train)\n"
      ]
    },
    {
      "cell_type": "code",
      "execution_count": null,
      "metadata": {
        "colab": {
          "base_uri": "https://localhost:8080/"
        },
        "id": "wr4T19P5lrw8",
        "outputId": "46cc1e33-55f2-4347-ec57-8ae7bee3b61c"
      },
      "outputs": [],
      "source": [
        "model.score(X_test, y_test)"
      ]
    },
    {
      "cell_type": "code",
      "execution_count": null,
      "metadata": {
        "colab": {
          "base_uri": "https://localhost:8080/",
          "height": 398
        },
        "id": "d9Xf31U2mDeq",
        "outputId": "49cd75a0-0473-4fdb-d6b6-56fe67df0c23"
      },
      "outputs": [],
      "source": [
        "y_test.head(10)"
      ]
    },
    {
      "cell_type": "code",
      "execution_count": null,
      "metadata": {
        "colab": {
          "base_uri": "https://localhost:8080/"
        },
        "id": "MVWZtgJGmLYH",
        "outputId": "692fa898-3345-41fb-9a85-e50d23460328"
      },
      "outputs": [],
      "source": [
        "model.predict(X_test[:10])"
      ]
    }
  ],
  "metadata": {
    "colab": {
      "provenance": []
    },
    "kernelspec": {
      "display_name": "Python 3",
      "name": "python3"
    },
    "language_info": {
      "name": "python"
    }
  },
  "nbformat": 4,
  "nbformat_minor": 0
}
